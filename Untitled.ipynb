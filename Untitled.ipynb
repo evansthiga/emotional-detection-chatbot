{
 "cells": [
  {
   "cell_type": "markdown",
   "id": "09b5f8db",
   "metadata": {},
   "source": [
    "# Part 1"
   ]
  },
  {
   "cell_type": "markdown",
   "id": "8bd856cd",
   "metadata": {},
   "source": [
    "## SOL Emotional detection "
   ]
  },
  {
   "cell_type": "code",
   "execution_count": 1,
   "id": "456fb398",
   "metadata": {},
   "outputs": [],
   "source": [
    "# Basic Libraries\n",
    "import pandas as pd\n",
    "import numpy as np\n",
    "import seaborn as sns\n",
    "import matplotlib.pyplot as plt\n",
    "import nltk \n",
    "import string\n",
    "import re\n",
    "import collections\n",
    "from sklearn.feature_extraction.text import CountVectorizer\n",
    "from sklearn.feature_extraction.text import TfidfVectorizer\n",
    "from sklearn.feature_extraction.text import TfidfTransformer\n",
    "from sklearn.model_selection import train_test_split\n",
    "# Classifiers\n",
    "from sklearn.linear_model import SGDClassifier\n",
    "from sklearn.neural_network import MLPClassifier\n",
    "# Performance Matrix\n",
    "from sklearn.metrics import accuracy_score\n",
    "from sklearn.metrics import precision_score\n",
    "from sklearn.metrics import recall_score\n",
    "from sklearn.metrics import confusion_matrix\n",
    "from sklearn.metrics import f1_score\n",
    "from sklearn.metrics import classification_report\n",
    "from sklearn.metrics import ConfusionMatrixDisplay"
   ]
  },
  {
   "cell_type": "code",
   "execution_count": 2,
   "id": "fd057ff7",
   "metadata": {},
   "outputs": [],
   "source": [
    "import pickle\n",
    "import os\n",
    "import warnings\n",
    "warnings.filterwarnings(\"ignore\")"
   ]
  },
  {
   "cell_type": "code",
   "execution_count": 3,
   "id": "5c89bea7",
   "metadata": {},
   "outputs": [],
   "source": [
    "root_path = \"C://Users//HP//Documents//perceptron//SOL Health AI\"\n",
    "resource_root_path = \"C://Users//HP//Documents//perceptron//SOL Health AI//data\""
   ]
  },
  {
   "cell_type": "code",
   "execution_count": 4,
   "id": "c19e6dbb",
   "metadata": {},
   "outputs": [
    {
     "data": {
      "text/html": [
       "<div>\n",
       "<style scoped>\n",
       "    .dataframe tbody tr th:only-of-type {\n",
       "        vertical-align: middle;\n",
       "    }\n",
       "\n",
       "    .dataframe tbody tr th {\n",
       "        vertical-align: top;\n",
       "    }\n",
       "\n",
       "    .dataframe thead th {\n",
       "        text-align: right;\n",
       "    }\n",
       "</style>\n",
       "<table border=\"1\" class=\"dataframe\">\n",
       "  <thead>\n",
       "    <tr style=\"text-align: right;\">\n",
       "      <th></th>\n",
       "      <th>User</th>\n",
       "      <th>Chatbot</th>\n",
       "      <th>Intent</th>\n",
       "    </tr>\n",
       "  </thead>\n",
       "  <tbody>\n",
       "    <tr>\n",
       "      <th>0</th>\n",
       "      <td>Hello</td>\n",
       "      <td>Hi &lt;HUMAN&gt; how are you?</td>\n",
       "      <td>Greeting</td>\n",
       "    </tr>\n",
       "    <tr>\n",
       "      <th>1</th>\n",
       "      <td>Hi</td>\n",
       "      <td>Hello &lt;HUMAN&gt; how are you?</td>\n",
       "      <td>Greeting</td>\n",
       "    </tr>\n",
       "    <tr>\n",
       "      <th>2</th>\n",
       "      <td>Hola</td>\n",
       "      <td>Hi &lt;HUMAN&gt; how are you?</td>\n",
       "      <td>Greeting</td>\n",
       "    </tr>\n",
       "    <tr>\n",
       "      <th>3</th>\n",
       "      <td>Hi there</td>\n",
       "      <td>Hi &lt;HUMAN&gt; how are you?</td>\n",
       "      <td>Greeting</td>\n",
       "    </tr>\n",
       "    <tr>\n",
       "      <th>4</th>\n",
       "      <td>Hya there</td>\n",
       "      <td>Hi &lt;HUMAN&gt; how are you?</td>\n",
       "      <td>Greeting</td>\n",
       "    </tr>\n",
       "    <tr>\n",
       "      <th>...</th>\n",
       "      <td>...</td>\n",
       "      <td>...</td>\n",
       "      <td>...</td>\n",
       "    </tr>\n",
       "    <tr>\n",
       "      <th>2295</th>\n",
       "      <td>Today I meditated for 30 minutes and I feel am...</td>\n",
       "      <td>I am glad you felt better after meditating</td>\n",
       "      <td>Surprise_Amazed</td>\n",
       "    </tr>\n",
       "    <tr>\n",
       "      <th>2296</th>\n",
       "      <td>I broke my foot</td>\n",
       "      <td>I am sorry to hear your foot broke</td>\n",
       "      <td>Health</td>\n",
       "    </tr>\n",
       "    <tr>\n",
       "      <th>2297</th>\n",
       "      <td>I broke my foot</td>\n",
       "      <td>I am sorry to hear you broke your foot</td>\n",
       "      <td>Health</td>\n",
       "    </tr>\n",
       "    <tr>\n",
       "      <th>2298</th>\n",
       "      <td>My boss gave me priase in front of the group a...</td>\n",
       "      <td>I am glad your work was praised</td>\n",
       "      <td>Happy_Excited_Joy</td>\n",
       "    </tr>\n",
       "    <tr>\n",
       "      <th>2299</th>\n",
       "      <td>My boss gave me priase in front of the group a...</td>\n",
       "      <td>I am happy to hear about the praise you got at...</td>\n",
       "      <td>Happy_Excited_Joy</td>\n",
       "    </tr>\n",
       "  </tbody>\n",
       "</table>\n",
       "<p>2064 rows × 3 columns</p>\n",
       "</div>"
      ],
      "text/plain": [
       "                                                   User  \\\n",
       "0                                                 Hello   \n",
       "1                                                    Hi   \n",
       "2                                                  Hola   \n",
       "3                                              Hi there   \n",
       "4                                             Hya there   \n",
       "...                                                 ...   \n",
       "2295  Today I meditated for 30 minutes and I feel am...   \n",
       "2296                                    I broke my foot   \n",
       "2297                                    I broke my foot   \n",
       "2298  My boss gave me priase in front of the group a...   \n",
       "2299  My boss gave me priase in front of the group a...   \n",
       "\n",
       "                                                Chatbot             Intent  \n",
       "0                               Hi <HUMAN> how are you?           Greeting  \n",
       "1                            Hello <HUMAN> how are you?           Greeting  \n",
       "2                               Hi <HUMAN> how are you?           Greeting  \n",
       "3                               Hi <HUMAN> how are you?           Greeting  \n",
       "4                               Hi <HUMAN> how are you?           Greeting  \n",
       "...                                                 ...                ...  \n",
       "2295         I am glad you felt better after meditating    Surprise_Amazed  \n",
       "2296                 I am sorry to hear your foot broke             Health  \n",
       "2297             I am sorry to hear you broke your foot             Health  \n",
       "2298                    I am glad your work was praised  Happy_Excited_Joy  \n",
       "2299  I am happy to hear about the praise you got at...  Happy_Excited_Joy  \n",
       "\n",
       "[2064 rows x 3 columns]"
      ]
     },
     "execution_count": 4,
     "metadata": {},
     "output_type": "execute_result"
    }
   ],
   "source": [
    "#read data file\n",
    "df = pd.read_csv('data/Chatbot Dataset.csv',encoding='ISO-8859-1')\n",
    "df = df.dropna(axis=0)\n",
    "#remove dupicates\n",
    "df_unduplicate = df.drop_duplicates(keep=False,inplace=False)\n",
    "df_unduplicate"
   ]
  },
  {
   "cell_type": "code",
   "execution_count": 5,
   "id": "71620b2e",
   "metadata": {},
   "outputs": [
    {
     "name": "stdout",
     "output_type": "stream",
     "text": [
      "Dataset size: (2064, 3)\n",
      "Columns are: Index(['User', 'Chatbot', 'Intent'], dtype='object')\n"
     ]
    }
   ],
   "source": [
    "#show data shape and columns\n",
    "print('Dataset size:',df.shape)\n",
    "print('Columns are:',df.columns)\n",
    "Y = df['Intent']"
   ]
  },
  {
   "cell_type": "code",
   "execution_count": 6,
   "id": "92d41216",
   "metadata": {},
   "outputs": [
    {
     "name": "stdout",
     "output_type": "stream",
     "text": [
      "<class 'pandas.core.frame.DataFrame'>\n",
      "Int64Index: 2064 entries, 0 to 2299\n",
      "Data columns (total 3 columns):\n",
      " #   Column   Non-Null Count  Dtype \n",
      "---  ------   --------------  ----- \n",
      " 0   User     2064 non-null   object\n",
      " 1   Chatbot  2064 non-null   object\n",
      " 2   Intent   2064 non-null   object\n",
      "dtypes: object(3)\n",
      "memory usage: 64.5+ KB\n"
     ]
    }
   ],
   "source": [
    "df.info()"
   ]
  },
  {
   "cell_type": "code",
   "execution_count": 7,
   "id": "6bcd7d04",
   "metadata": {},
   "outputs": [
    {
     "data": {
      "text/plain": [
       "Counter({'Greeting': 25,\n",
       "         'Introduction': 80,\n",
       "         'Info': 255,\n",
       "         'Confirm': 190,\n",
       "         'Time': 11,\n",
       "         'Farewell': 13,\n",
       "         'Happy_Excited_Joy': 372,\n",
       "         'Surprise_Amazed': 58,\n",
       "         'Age': 10,\n",
       "         'HowAreYou': 13,\n",
       "         'Good': 15,\n",
       "         'Sad': 404,\n",
       "         'Health': 138,\n",
       "         'Meet/Talk': 11,\n",
       "         'Sorry': 25,\n",
       "         'Thanks': 33,\n",
       "         'Compliment': 28,\n",
       "         'Angry_Frustrated': 93,\n",
       "         'Busy': 34,\n",
       "         'Origin': 18,\n",
       "         'Joke': 16,\n",
       "         'Sleep': 16,\n",
       "         'Eat_Food': 91,\n",
       "         'Love': 57,\n",
       "         'Hobby': 23,\n",
       "         'Insult': 29,\n",
       "         'Jealous': 6})"
      ]
     },
     "execution_count": 7,
     "metadata": {},
     "output_type": "execute_result"
    }
   ],
   "source": [
    "#show intents in document and occurence\n",
    "counter=collections.Counter(df['Intent'])\n",
    "counter"
   ]
  },
  {
   "cell_type": "markdown",
   "id": "15cd37cd",
   "metadata": {},
   "source": [
    "## text pre-processing"
   ]
  },
  {
   "cell_type": "markdown",
   "id": "7476b90f",
   "metadata": {},
   "source": [
    "### Removing punctuations from data file\n"
   ]
  },
  {
   "cell_type": "code",
   "execution_count": 8,
   "id": "90e4d60e",
   "metadata": {
    "scrolled": true
   },
   "outputs": [],
   "source": [
    "#xchar are special characters in text such as emojis for uniformity \n",
    "xchar = pd.read_csv('data/Xchar.txt',sep=',',header=None)\n",
    "xchar_dict = {i:j for i,j in zip(xchar[0],xchar[1])}\n",
    "pattern = '|'.join(sorted(re.escape(k) for k in xchar_dict))\n",
    "\n",
    "def replace_xchar(text):\n",
    "    text = re.sub(pattern,lambda m: xchar_dict.get(m.group(0)), text, flags=re.IGNORECASE)\n",
    "    return text\n",
    "\n",
    "def remove_punct(text):\n",
    "    text = replace_xchar(text)\n",
    "    text  = \"\".join([char for char in text if char not in string.punctuation])\n",
    "    text = re.sub('[0-9]+', '', text)\n",
    "    return text"
   ]
  },
  {
   "cell_type": "code",
   "execution_count": 9,
   "id": "94095dfb",
   "metadata": {},
   "outputs": [
    {
     "name": "stdout",
     "output_type": "stream",
     "text": [
      "Data type after reconstruction :  <class 'dict'>\n",
      "{\"ain't\": 'is not', \"aren't\": 'are not', \"can't\": 'cannot', \"'cause\": 'because', \"could've\": 'could have', \"couldn't\": 'could not', \"didn't\": 'did not', \"doesn't\": 'does not', \"don't\": 'do not', \"hadn't\": 'had not', \"hasn't\": 'has not', \"haven't\": 'have not', \"he'd\": 'he would', \"he'll\": 'he will', \"he's\": 'he is', \"how'd\": 'how did', \"how'd'y\": 'how do you', \"how'll\": 'how will', \"how's\": 'how is', \"I'd\": 'I would', \"I'd've\": 'I would have', \"I'll\": 'I will', \"I'll've\": 'I will have', \"I'm\": 'I am', 'im': 'i am', \"I've\": 'I have', \"i'd\": 'i would', \"i'd've\": 'i would have', \"i'll\": 'i will', \"i'll've\": 'i will have', \"i'm\": 'i am', \"i've\": 'i have', \"isn't\": 'is not', \"it'd\": 'it would', \"it'd've\": 'it would have', \"it'll\": 'it will', \"it'll've\": 'it will have', \"it's\": 'it is', \"let's\": 'let us', \"ma'am\": 'madam', \"mayn't\": 'may not', \"might've\": 'might have', \"mightn't\": 'might not', \"mightn't've\": 'might not have', \"must've\": 'must have', \"mustn't\": 'must not', \"mustn't've\": 'must not have', \"needn't\": 'need not', \"needn't've\": 'need not have', \"o'clock\": 'of the clock', \"oughtn't\": 'ought not', \"oughtn't've\": 'ought not have', \"shan't\": 'shall not', \"sha'n't\": 'shall not', \"shan't've\": 'shall not have', \"she'd\": 'she would', \"she'd've\": 'she would have', \"she'll\": 'she will', \"she'll've\": 'she will have', \"she's\": 'she is', \"should've\": 'should have', \"shouldn't\": 'should not', \"shouldn't've\": 'should not have', \"so've\": 'so have', \"so's\": 'so as', \"this's\": 'this is', \"that'd\": 'that would', \"that'd've\": 'that would have', \"that's\": 'that is', \"there'd\": 'there would', \"there'd've\": 'there would have', \"there's\": 'there is', \"here's\": 'here is', \"they'd\": 'they would', \"they'd've\": 'they would have', \"they'll\": 'they will', \"they'll've\": 'they will have', \"they're\": 'they are', \"they've\": 'they have', \"to've\": 'to have', \"wasn't\": 'was not', \"we'd\": 'we would', \"we'd've\": 'we would have', \"we'll\": 'we will', \"we'll've\": 'we will have', \"we're\": 'we are', \"we've\": 'we have', \"weren't\": 'were not', \"what'll\": 'what will', \"what'll've\": 'what will have', \"what're\": 'what are', \"what's\": 'what is', \"what've\": 'what have', \"when's\": 'when is', \"when've\": 'when have', \"where'd\": 'where did', \"where's\": 'where is', \"where've\": 'where have', \"who'll\": 'who will', \"who'll've\": 'who will have', \"who's\": 'who is', \"who've\": 'who have', \"why's\": 'why is', \"why've\": 'why have', \"will've\": 'will have', \"won't\": 'will not', \"won't've\": 'will not have', \"would've\": 'would have', \"wouldn't\": 'would not', \"wouldn't've\": 'would not have', \"y'all\": 'you all', \"y'all'd\": 'you all would', \"y'all'd've\": 'you all would have', \"y'all're\": 'you all are', \"y'all've\": 'you all have', \"you'd\": 'you would', \"you'd've\": 'you would have', \"you'll\": 'you will', \"you'll've\": 'you will have', \"you're\": 'you are', \"you've\": 'you have'}\n"
     ]
    }
   ],
   "source": [
    "#import contraction dictionary \n",
    "#removing and reconstracting all the shortened words in file and replacing them with their full writen form allowing sentiment analysis\n",
    "import json\n",
    "with open('data/contractionDic.json') as f:\n",
    "    cont_data = f.read()\n",
    "js = json.loads(cont_data) \n",
    "print(\"Data type after reconstruction : \", type(js))\n",
    "print(js) \n",
    "\n",
    "contraction_dict = json.loads(cont_data)\n",
    "def _get_contractions(contraction_dict):\n",
    "    contraction_re = re.compile('(%s)' % '|'.join(contraction_dict.keys()))\n",
    "    return contraction_dict, contraction_re\n",
    "contractions, contractions_re = _get_contractions(contraction_dict)\n",
    "\n",
    "def replace_contractions(text):\n",
    "    def replace(match):\n",
    "        return contractions[match.group(0)]\n",
    "    return contractions_re.sub(replace, text)"
   ]
  },
  {
   "cell_type": "markdown",
   "id": "24d7efef",
   "metadata": {},
   "source": [
    "### Tokenization "
   ]
  },
  {
   "cell_type": "code",
   "execution_count": 10,
   "id": "374a5083",
   "metadata": {},
   "outputs": [],
   "source": [
    "#breaking apart original text into individual pieces for further analysis\n",
    "def tokenization(text):\n",
    "    text = text.lower()\n",
    "    text = re.split('\\W+', text)\n",
    "    return text"
   ]
  },
  {
   "cell_type": "code",
   "execution_count": 11,
   "id": "290f0d37",
   "metadata": {},
   "outputs": [
    {
     "name": "stderr",
     "output_type": "stream",
     "text": [
      "[nltk_data] Error loading stopwords: <urlopen error [Errno 11001]\n",
      "[nltk_data]     getaddrinfo failed>\n"
     ]
    },
    {
     "data": {
      "text/plain": [
       "False"
      ]
     },
     "execution_count": 11,
     "metadata": {},
     "output_type": "execute_result"
    }
   ],
   "source": [
    "nltk.download('stopwords')"
   ]
  },
  {
   "cell_type": "code",
   "execution_count": 12,
   "id": "8d1b24ac",
   "metadata": {},
   "outputs": [],
   "source": [
    "stopword = nltk.corpus.stopwords.words('english')\n",
    "stopword.extend(['patients', 'may','day', 'case','old','u','n','didnt','yr', 'year', 'woman', 'man', 'girl','boy',\n",
    "                 'brother','dad','one', 'two', 'sixteen', 'yearold', 'fu', 'weeks', 'week',\n",
    "              'treatment', 'associated','ive','ate','feel','keep'\n",
    "                'basic','im'])\n",
    "#remove all stop words\n",
    "def remove_stopwords(text):\n",
    "    text = [word for word in text if word not in stopword]\n",
    "    return text"
   ]
  },
  {
   "cell_type": "code",
   "execution_count": 13,
   "id": "cf2828ff",
   "metadata": {},
   "outputs": [
    {
     "name": "stderr",
     "output_type": "stream",
     "text": [
      "[nltk_data] Downloading package wordnet to\n",
      "[nltk_data]     C:\\Users\\HP\\AppData\\Roaming\\nltk_data...\n",
      "[nltk_data]   Package wordnet is already up-to-date!\n"
     ]
    },
    {
     "data": {
      "text/plain": [
       "True"
      ]
     },
     "execution_count": 13,
     "metadata": {},
     "output_type": "execute_result"
    }
   ],
   "source": [
    "nltk.download('wordnet')"
   ]
  },
  {
   "cell_type": "code",
   "execution_count": 14,
   "id": "58ce8eb5",
   "metadata": {},
   "outputs": [],
   "source": [
    "#lemmatization is used to normalize text and prepare words and documents for further processing in Machine Learning\n",
    "Wlament = nltk.WordNetLemmatizer()\n",
    "\n",
    "def lemmatizer(text):\n",
    "    text = [Wlament.lemmatize(word) for word in text]\n",
    "    return text\n",
    "#text cleaning\n",
    "def clean_text(text):\n",
    "    text = replace_contractions(text)\n",
    "    text = remove_punct(text)\n",
    "    text = tokenization(text)\n",
    "    # text = remove_stopwords(text)\n",
    "    text = lemmatizer(text)\n",
    "    return text"
   ]
  },
  {
   "cell_type": "markdown",
   "id": "033d18cf",
   "metadata": {},
   "source": [
    "## using count vector and term frequency for feature extraction "
   ]
  },
  {
   "cell_type": "code",
   "execution_count": 15,
   "id": "204ca5a8",
   "metadata": {},
   "outputs": [
    {
     "name": "stdout",
     "output_type": "stream",
     "text": [
      "Encoded sample is:\n",
      "[[0 1 0 0 1 0 0 1 0 0 0 0 1 1]\n",
      " [1 0 1 0 0 0 0 0 1 0 0 0 0 0]\n",
      " [0 0 0 1 0 1 1 0 0 1 1 1 0 2]]\n",
      "['cows', 'dog', 'drink', 'fire', 'flies', 'fring', 'into', 'landed', 'milk', 'of', 'out', 'pan', 'that', 'the']\n"
     ]
    },
    {
     "data": {
      "text/plain": [
       "<AxesSubplot:>"
      ]
     },
     "execution_count": 15,
     "metadata": {},
     "output_type": "execute_result"
    },
    {
     "data": {
      "image/png": "[encoded data removed]",
      "text/plain": [
       "<Figure size 432x288 with 1 Axes>"
      ]
     },
     "metadata": {
      "needs_background": "light"
     },
     "output_type": "display_data"
    }
   ],
   "source": [
    "#count vectorizer\n",
    "#Creating a matrix for each word with a unique column matrix represented in a table where the value of each cell is the count of each word\n",
    "\n",
    "sample =['the dog that flies landed', 'cows drink milk',  'out of the fring pan into the fire'] #upsard sentenses \n",
    "\n",
    "# Create a Vectorizer Object\n",
    "vectorizer = CountVectorizer()\n",
    "vectorizer.fit(sample)\n",
    "# Encode the Document\n",
    "vector = vectorizer.transform(sample)\n",
    "\n",
    "print(\"Encoded sample is:\")\n",
    "print(vector.toarray())\n",
    "\n",
    "sample_out = sorted(vectorizer.vocabulary_)\n",
    "\n",
    "print(sample_out)\n",
    "\n",
    "sns.heatmap(vector.toarray(), annot=True, cbar=False, xticklabels=sample_out,\n",
    "                                             yticklabels=['Sentence 1','Sentence 2','Sentence 3'])"
   ]
  },
  {
   "cell_type": "code",
   "execution_count": 16,
   "id": "4805ece3",
   "metadata": {},
   "outputs": [
    {
     "name": "stdout",
     "output_type": "stream",
     "text": [
      "[[0.47952794 0.         0.47952794 0.47952794 0.         0.\n",
      "  0.         0.         0.47952794 0.         0.         0.\n",
      "  0.         0.28321692 0.        ]\n",
      " [0.         0.47952794 0.         0.         0.         0.\n",
      "  0.47952794 0.         0.         0.         0.         0.\n",
      "  0.47952794 0.28321692 0.47952794]\n",
      " [0.         0.         0.         0.         0.36772387 0.36772387\n",
      "  0.         0.36772387 0.         0.36772387 0.36772387 0.36772387\n",
      "  0.         0.43436728 0.        ]]\n",
      "{'cows': 2, 'drink': 3, 'all': 0, 'the': 13, 'milk': 8, 'talking': 12, 'cat': 1, 'went': 14, 'home': 6, 'out': 10, 'of': 9, 'fring': 5, 'pan': 11, 'into': 7, 'fire': 4}\n",
      "['all', 'cat', 'cows', 'drink', 'fire', 'fring', 'home', 'into', 'milk', 'of', 'out', 'pan', 'talking', 'the', 'went']\n"
     ]
    },
    {
     "data": {
      "text/plain": [
       "<AxesSubplot:>"
      ]
     },
     "execution_count": 16,
     "metadata": {},
     "output_type": "execute_result"
    },
    {
     "data": {
      "image/png": "[encoded data removed]",
      "text/plain": [
       "<Figure size 432x288 with 1 Axes>"
      ]
     },
     "metadata": {
      "needs_background": "light"
     },
     "output_type": "display_data"
    }
   ],
   "source": [
    "#Term frequency using inverse document frequency \n",
    "#the measure of how requently a term appears\n",
    "\n",
    "from sklearn.feature_extraction.text import TfidfVectorizer\n",
    "sample =['cows drink all the milk', 'the talking cat went home', 'out of the fring pan into the fire'] #upsard sentenses\n",
    "\n",
    "tfidf_vectorizer = TfidfVectorizer()\n",
    "tfidf = tfidf_vectorizer.fit_transform(sample).toarray()\n",
    "\n",
    "print (tfidf)\n",
    "\n",
    "print (tfidf_vectorizer.vocabulary_)\n",
    "\n",
    "sorted_sample = sorted(tfidf_vectorizer.vocabulary_)\n",
    "\n",
    "print(sorted_sample)\n",
    "sns.heatmap(tfidf, annot=True, cbar=False, xticklabels=sorted_sample,\n",
    "                                           yticklabels=['Sentence 1','Sentence 2','Sentence 3'])"
   ]
  },
  {
   "cell_type": "code",
   "execution_count": 17,
   "id": "89da0cf6",
   "metadata": {},
   "outputs": [],
   "source": [
    "#split training data into two and Apply feature extraction\n",
    "X_train, X_test, y_train, y_test = train_test_split(df['User'], df['Intent'],test_size=0.25, random_state = 31)\n",
    "\n",
    "countVectorizer1 = CountVectorizer(analyzer=clean_text)\n",
    "countVector1 = countVectorizer1.fit_transform(X_train)\n",
    "\n",
    "countVector2 = countVectorizer1.transform(X_test)\n",
    "\n",
    "tfidf_transformer_xtrain = TfidfTransformer()\n",
    "x_train = tfidf_transformer_xtrain.fit_transform(countVector1)\n",
    "\n",
    "tfidf_transformer_xtest = TfidfTransformer()\n",
    "x_test = tfidf_transformer_xtest.fit_transform(countVector2)"
   ]
  },
  {
   "cell_type": "markdown",
   "id": "38ec5868",
   "metadata": {},
   "source": [
    "# models"
   ]
  },
  {
   "cell_type": "code",
   "execution_count": 18,
   "id": "b0704ddd",
   "metadata": {},
   "outputs": [
    {
     "name": "stdout",
     "output_type": "stream",
     "text": [
      "Accuracy: 70.349\n",
      "Precision: 69.429\n",
      "Recall: 55.442\n",
      "F1-score: 59.180\n",
      "                   precision    recall  f1-score   support\n",
      "\n",
      "              Age       1.00      0.50      0.67         2\n",
      " Angry_Frustrated       0.83      0.58      0.68        26\n",
      "             Busy       0.75      0.43      0.55         7\n",
      "       Compliment       0.50      0.33      0.40         6\n",
      "          Confirm       0.62      0.57      0.59        53\n",
      "         Eat_Food       0.61      0.69      0.65        16\n",
      "         Farewell       1.00      0.33      0.50         3\n",
      "             Good       0.25      0.20      0.22         5\n",
      "         Greeting       1.00      0.43      0.60         7\n",
      "Happy_Excited_Joy       0.78      0.97      0.86        87\n",
      "           Health       0.87      0.67      0.75        39\n",
      "            Hobby       1.00      0.50      0.67         4\n",
      "        HowAreYou       0.25      0.33      0.29         3\n",
      "             Info       0.66      0.66      0.66        64\n",
      "           Insult       0.86      0.75      0.80         8\n",
      "     Introduction       0.33      0.47      0.39        19\n",
      "          Jealous       1.00      0.50      0.67         2\n",
      "             Joke       1.00      1.00      1.00         2\n",
      "             Love       0.70      0.64      0.67        11\n",
      "        Meet/Talk       0.00      0.00      0.00         1\n",
      "           Origin       0.44      1.00      0.62         4\n",
      "              Sad       0.77      0.83      0.80       108\n",
      "            Sleep       1.00      0.50      0.67         2\n",
      "            Sorry       0.40      0.33      0.36         6\n",
      "  Surprise_Amazed       0.80      0.67      0.73        18\n",
      "           Thanks       0.57      0.50      0.53         8\n",
      "             Time       0.75      0.60      0.67         5\n",
      "\n",
      "         accuracy                           0.70       516\n",
      "        macro avg       0.69      0.55      0.59       516\n",
      "     weighted avg       0.72      0.70      0.70       516\n",
      "\n"
     ]
    }
   ],
   "source": [
    "#using svm (support vector machine) and mlp (multi layer perceptron) to perform accuracy, recall, precision and F1-score\n",
    "#svm\n",
    "\n",
    "svm = SGDClassifier()\n",
    "svm.fit(x_train, y_train)\n",
    "\n",
    "y_pred = svm.predict(x_test)\n",
    "\n",
    "svm_acc = accuracy_score(y_pred, y_test)\n",
    "svm_prec = precision_score(y_test, y_pred, average='macro')\n",
    "svm_recal = recall_score(y_test, y_pred, average='macro')\n",
    "svm_cm = confusion_matrix(y_test,y_pred)\n",
    "svm_f1 = f1_score(y_test, y_pred, average='macro')\n",
    "\n",
    "print('Accuracy:', '{0:.3f}'.format(svm_acc*100))\n",
    "print('Precision:', '{0:.3f}'.format(svm_prec*100))\n",
    "print('Recall:', '{0:.3f}'.format(svm_recal*100))\n",
    "print('F1-score:', '{0:.3f}'.format(svm_f1*100))\n",
    "print(classification_report(y_test,y_pred))"
   ]
  },
  {
   "cell_type": "code",
   "execution_count": 19,
   "id": "dd575418",
   "metadata": {},
   "outputs": [
    {
     "data": {
      "text/plain": [
       "<sklearn.metrics._plot.confusion_matrix.ConfusionMatrixDisplay at 0x2821a4b40a0>"
      ]
     },
     "execution_count": 19,
     "metadata": {},
     "output_type": "execute_result"
    },
    {
     "data": {
      "image/png": "[encoded data removed]",
      "text/plain": [
       "<Figure size 1296x1080 with 2 Axes>"
      ]
     },
     "metadata": {
      "needs_background": "light"
     },
     "output_type": "display_data"
    }
   ],
   "source": [
    "# visualization of confusion matrix for svm\n",
    "\n",
    "cm_display_svm = ConfusionMatrixDisplay(svm_cm, display_labels=svm.classes_)\n",
    "fig, ax = plt.subplots(figsize=(18,15)) \n",
    "ax.set_xticklabels(svm.classes_, rotation='vertical', fontsize=11)\n",
    "cm_display_svm.plot(ax=ax,cmap='Blues')"
   ]
  },
  {
   "cell_type": "code",
   "execution_count": 20,
   "id": "5111b132",
   "metadata": {},
   "outputs": [
    {
     "name": "stdout",
     "output_type": "stream",
     "text": [
      "Accuracy: 70.736\n",
      "Precision: 73.992\n",
      "Recall: 54.717\n",
      "F1-score: 60.019\n",
      "                   precision    recall  f1-score   support\n",
      "\n",
      "              Age       1.00      0.50      0.67         2\n",
      " Angry_Frustrated       0.72      0.50      0.59        26\n",
      "             Busy       0.75      0.43      0.55         7\n",
      "       Compliment       1.00      0.33      0.50         6\n",
      "          Confirm       0.61      0.53      0.57        53\n",
      "         Eat_Food       0.68      0.81      0.74        16\n",
      "         Farewell       1.00      0.33      0.50         3\n",
      "             Good       0.33      0.20      0.25         5\n",
      "         Greeting       1.00      0.43      0.60         7\n",
      "Happy_Excited_Joy       0.75      0.97      0.84        87\n",
      "           Health       0.80      0.72      0.76        39\n",
      "            Hobby       0.67      0.50      0.57         4\n",
      "        HowAreYou       0.25      0.33      0.29         3\n",
      "             Info       0.62      0.72      0.67        64\n",
      "           Insult       1.00      0.75      0.86         8\n",
      "     Introduction       0.28      0.26      0.27        19\n",
      "          Jealous       1.00      0.50      0.67         2\n",
      "             Joke       1.00      1.00      1.00         2\n",
      "             Love       0.60      0.55      0.57        11\n",
      "        Meet/Talk       0.00      0.00      0.00         1\n",
      "           Origin       0.57      1.00      0.73         4\n",
      "              Sad       0.77      0.87      0.82       108\n",
      "            Sleep       1.00      0.50      0.67         2\n",
      "            Sorry       1.00      0.33      0.50         6\n",
      "  Surprise_Amazed       1.00      0.61      0.76        18\n",
      "           Thanks       0.57      0.50      0.53         8\n",
      "             Time       1.00      0.60      0.75         5\n",
      "\n",
      "         accuracy                           0.71       516\n",
      "        macro avg       0.74      0.55      0.60       516\n",
      "     weighted avg       0.72      0.71      0.70       516\n",
      "\n"
     ]
    }
   ],
   "source": [
    "#mlp\n",
    "mlp = MLPClassifier(random_state=6, max_iter=97)\n",
    "mlp.fit(x_train, y_train)\n",
    "y_pred = mlp.predict(x_test)\n",
    "\n",
    "mlp_acc = accuracy_score(y_pred, y_test)\n",
    "mlp_prec = precision_score(y_test, y_pred, average='macro')\n",
    "mlp_recal = recall_score(y_test, y_pred, average='macro')\n",
    "mlp_cm = confusion_matrix(y_test,y_pred)\n",
    "mlp_f1 = f1_score(y_test, y_pred, average='macro')\n",
    "\n",
    "print('Accuracy:', '{0:.3f}'.format(mlp_acc*100))\n",
    "print('Precision:', '{0:.3f}'.format(mlp_prec*100))\n",
    "print('Recall:', '{0:.3f}'.format(mlp_recal*100))\n",
    "print('F1-score:', '{0:.3f}'.format(mlp_f1*100))\n",
    "print(classification_report(y_test,y_pred))"
   ]
  },
  {
   "cell_type": "code",
   "execution_count": 21,
   "id": "920005a2",
   "metadata": {},
   "outputs": [
    {
     "data": {
      "text/plain": [
       "<sklearn.metrics._plot.confusion_matrix.ConfusionMatrixDisplay at 0x2821f924250>"
      ]
     },
     "execution_count": 21,
     "metadata": {},
     "output_type": "execute_result"
    },
    {
     "data": {
      "image/png": "[encoded data removed]",
      "text/plain": [
       "<Figure size 1080x1080 with 2 Axes>"
      ]
     },
     "metadata": {
      "needs_background": "light"
     },
     "output_type": "display_data"
    }
   ],
   "source": [
    "# visualization of confusion matrix for mlp\n",
    "cm_display_mlp = ConfusionMatrixDisplay(mlp_cm, display_labels=mlp.classes_)\n",
    "fig, ax = plt.subplots(figsize=(15,15)) \n",
    "cm_display_mlp.plot(ax=ax,cmap='bone_r')"
   ]
  },
  {
   "cell_type": "code",
   "execution_count": 22,
   "id": "af7c8a74",
   "metadata": {
    "scrolled": true
   },
   "outputs": [
    {
     "name": "stdout",
     "output_type": "stream",
     "text": [
      "27\n"
     ]
    },
    {
     "data": {
      "text/plain": [
       "Counter({'Sad': 108,\n",
       "         'Health': 39,\n",
       "         'Confirm': 53,\n",
       "         'Insult': 8,\n",
       "         'Info': 64,\n",
       "         'Introduction': 19,\n",
       "         'Happy_Excited_Joy': 87,\n",
       "         'Angry_Frustrated': 26,\n",
       "         'Meet/Talk': 1,\n",
       "         'Hobby': 4,\n",
       "         'Time': 5,\n",
       "         'Surprise_Amazed': 18,\n",
       "         'Busy': 7,\n",
       "         'Compliment': 6,\n",
       "         'Greeting': 7,\n",
       "         'Sorry': 6,\n",
       "         'Sleep': 2,\n",
       "         'Eat_Food': 16,\n",
       "         'Good': 5,\n",
       "         'Jealous': 2,\n",
       "         'Thanks': 8,\n",
       "         'Farewell': 3,\n",
       "         'Love': 11,\n",
       "         'HowAreYou': 3,\n",
       "         'Origin': 4,\n",
       "         'Age': 2,\n",
       "         'Joke': 2})"
      ]
     },
     "execution_count": 22,
     "metadata": {},
     "output_type": "execute_result"
    }
   ],
   "source": [
    "#function to determin the percenteage of each emotional call made by the bot when interacting\n",
    "def get_percentage_emotinal_call(cm):\n",
    "    per_emotion_precision = []\n",
    "    for i in range(len(cm)):\n",
    "        count_per_emotion,accurate = 0,0\n",
    "        for j in range(len(cm)):\n",
    "            if i == j:\n",
    "                accurate = cm[j][i]\n",
    "            count_per_emotion += cm[j][i]\n",
    "        per_emotion_precision.append(round((accurate/count_per_emotion)*100,3))\n",
    "        \n",
    "    per_emotion_recall = []\n",
    "    for i in range(len(cm)):\n",
    "        count_per_emotion,accurate = 0,0\n",
    "        for j in range(len(cm)):\n",
    "            if i == j:\n",
    "                accurate = cm[i][j]\n",
    "            count_per_emotion += cm[i][j]\n",
    "        per_emotion_recall.append(round((accurate/count_per_emotion)*100,3))\n",
    "        \n",
    "    return per_emotion_precision, per_emotion_recall\n",
    "\n",
    "#get precision of each model\n",
    "svm_per_prec,svm_per_recall = get_percentage_emotinal_call(svm_cm)\n",
    "mlp_per_prec,mlp_per_recall = get_percentage_emotinal_call(mlp_cm)\n",
    "#recal the models used\n",
    "per_precision_list = pd.DataFrame({'Support vector Machine' : svm_per_prec, 'Multi Layer Perceptron' : mlp_per_prec}, \n",
    "                                index=svm.classes_)\n",
    "per_precision_list\n",
    "\n",
    "print(len(set(y_test)))\n",
    "import collections\n",
    "counter=collections.Counter(y_test)\n",
    "counter"
   ]
  },
  {
   "cell_type": "code",
   "execution_count": 23,
   "id": "379e48bb",
   "metadata": {},
   "outputs": [],
   "source": [
    "#save the models to disk\n",
    "with open(root_path+'/models/Chatbot_Model_final.pkl','wb') as f:\n",
    "    pickle.dump([svm, mlp], f)"
   ]
  },
  {
   "cell_type": "code",
   "execution_count": 24,
   "id": "4b1ce93a",
   "metadata": {},
   "outputs": [
    {
     "name": "stdout",
     "output_type": "stream",
     "text": [
      "File was Loaded Successfully\n"
     ]
    }
   ],
   "source": [
    "#load models from disc\n",
    "if os.path.isfile(root_path+'/models/Chatbot_Model_final.pkl'):\n",
    "    # Getting back the objects:\n",
    "    with open(root_path+'/models/Chatbot_Model_final.pkl','rb') as f:  \n",
    "        svm, mlp = pickle.load(f)\n",
    "        print('File was Loaded Successfully')\n",
    "else:\n",
    "    print('File can not be Found')"
   ]
  },
  {
   "cell_type": "markdown",
   "id": "6de0a3c3",
   "metadata": {},
   "source": [
    "\n",
    "# make predictions"
   ]
  },
  {
   "cell_type": "code",
   "execution_count": 25,
   "id": "3fe44bfe",
   "metadata": {},
   "outputs": [],
   "source": [
    "import random\n",
    "def response_generator(text, intent_name):\n",
    "    reply = response(text, intent_name)\n",
    "\n",
    "    return reply\n",
    "\n",
    "def recall_countvectorizer(s1, s2):\n",
    "    \n",
    "    # turn input sentences to list from\n",
    "    allsentences = [s1 , s2]\n",
    "    \n",
    "    from scipy.spatial import distance\n",
    "    \n",
    "    # turn all text into vectors\n",
    "    vectorizer = CountVectorizer()\n",
    "    all_sentences_to_vector = vectorizer.fit_transform(allsentences)\n",
    "\n",
    "    text_to_vector_v1 = all_sentences_to_vector.toarray()[0].tolist()\n",
    "    text_to_vector_v2 = all_sentences_to_vector.toarray()[1].tolist()\n",
    "    # find distance of similarity\n",
    "    cosine = distance.cosine(text_to_vector_v1, text_to_vector_v2)\n",
    "    return round((1-cosine),2)  \n"
   ]
  },
  {
   "cell_type": "code",
   "execution_count": 26,
   "id": "68dc6a56",
   "metadata": {},
   "outputs": [],
   "source": [
    "def response(text, intent_name):\n",
    "    maximum = float('-inf')\n",
    "    response = \"\"\n",
    "    closest = \"\"\n",
    "    replies = {}\n",
    "    list_sim, list_replies = [],[]\n",
    "    dataset = df[df['Intent']==intent_name]\n",
    "    for i in dataset.iterrows():\n",
    "        sim = recall_countvectorizer(text, i[1]['User'])\n",
    "        list_sim.append(sim)\n",
    "        list_replies.append(i[1]['Chatbot'])\n",
    "\n",
    "    for i in range(len(list_sim)):\n",
    "        if list_sim[i] in replies:\n",
    "            replies[list_sim[i]].append(list_replies[i])\n",
    "        else:\n",
    "            replies[list_sim[i]] = list()\n",
    "            replies[list_sim[i]].append(list_replies[i])\n",
    "    d1 = sorted(replies.items(), key = lambda pair:pair[0],reverse=True)\n",
    "    return d1[0][1][random.randint(0,len(d1[0][1])-1)]"
   ]
  },
  {
   "cell_type": "code",
   "execution_count": 27,
   "id": "0bd74df4",
   "metadata": {},
   "outputs": [],
   "source": [
    "# using ensamble learning to train the models\n",
    "accuracies = np.array([svm_acc, mlp_acc])\n",
    "norm_accuracy = accuracies - min(accuracies)\n",
    "model_weight = norm_accuracy / sum(norm_accuracy)  #SVM, MLP\n",
    "Intents = df['Intent'].unique()\n",
    "def extract_best_intent(list_intent_pred):\n",
    "    intent_scores = {}\n",
    "    for intent in Intents:\n",
    "        intent_scores[intent] = 0.0   \n",
    "    for i in range(len(list_intent_pred)):\n",
    "        intent_scores[list_intent_pred[i]] += model_weight[i]\n",
    "    si = sorted(intent_scores.items(), key = lambda pair:pair[1],reverse=True)[:7]\n",
    "    return si[0][0],si"
   ]
  },
  {
   "cell_type": "code",
   "execution_count": 28,
   "id": "915a56a9",
   "metadata": {},
   "outputs": [
    {
     "data": {
      "text/plain": [
       "array([0., 1.])"
      ]
     },
     "execution_count": 28,
     "metadata": {},
     "output_type": "execute_result"
    }
   ],
   "source": [
    "# adding weights to train the model\n",
    "accuracies = np.array([svm_acc, mlp_acc])\n",
    "norm_accuracy = accuracies - min(accuracies)\n",
    "model_weight = norm_accuracy / sum(norm_accuracy)\n",
    "model_weight"
   ]
  },
  {
   "cell_type": "code",
   "execution_count": null,
   "id": "b577125e",
   "metadata": {},
   "outputs": [
    {
     "name": "stdin",
     "output_type": "stream",
     "text": [
      "What's in your mind:  whats your name\n"
     ]
    },
    {
     "name": "stdout",
     "output_type": "stream",
     "text": [
      "Intent using SVM: Introduction\n",
      "Intent using Multi Layer Perceptron: ['Introduction']\n",
      "William:  My name is William and I can be your best friend.\n",
      "\n"
     ]
    },
    {
     "name": "stdin",
     "output_type": "stream",
     "text": [
      "What's in your mind:  what aare you?\n"
     ]
    },
    {
     "name": "stdout",
     "output_type": "stream",
     "text": [
      "Intent using SVM: Introduction\n",
      "Intent using Multi Layer Perceptron: ['Introduction']\n",
      "William:  I play music.\n",
      "\n"
     ]
    },
    {
     "name": "stdin",
     "output_type": "stream",
     "text": [
      "What's in your mind:  what kind of music ?\n"
     ]
    },
    {
     "name": "stdout",
     "output_type": "stream",
     "text": [
      "Intent using SVM: Info\n",
      "Intent using Multi Layer Perceptron: ['Info']\n",
      "William:  I have a little pomeranian.\n",
      "\n"
     ]
    },
    {
     "name": "stdin",
     "output_type": "stream",
     "text": [
      "What's in your mind:  tell me a joke\n"
     ]
    },
    {
     "name": "stdout",
     "output_type": "stream",
     "text": [
      "Intent using SVM: Joke\n",
      "Intent using Multi Layer Perceptron: ['Joke']\n",
      "William:  Why was 6 afraid of 7? Because 7 8 9!!!\n",
      "\n"
     ]
    },
    {
     "name": "stdin",
     "output_type": "stream",
     "text": [
      "What's in your mind:  not funny\n"
     ]
    },
    {
     "name": "stdout",
     "output_type": "stream",
     "text": [
      "Intent using SVM: Sad\n",
      "Intent using Multi Layer Perceptron: ['Sad']\n",
      "William:  What happened?\n",
      "\n"
     ]
    },
    {
     "name": "stdin",
     "output_type": "stream",
     "text": [
      "What's in your mind:  your joke was lame\n"
     ]
    },
    {
     "name": "stdout",
     "output_type": "stream",
     "text": [
      "Intent using SVM: Joke\n",
      "Intent using Multi Layer Perceptron: ['Joke']\n",
      "William:  Haha. My bad.\n",
      "\n"
     ]
    },
    {
     "name": "stdin",
     "output_type": "stream",
     "text": [
      "What's in your mind:  tell me another joke a nice one this time\n"
     ]
    },
    {
     "name": "stdout",
     "output_type": "stream",
     "text": [
      "Intent using SVM: Joke\n",
      "Intent using Multi Layer Perceptron: ['Joke']\n",
      "William:  Do you know which place is not a place? It is misplace.\n",
      "\n"
     ]
    },
    {
     "name": "stdin",
     "output_type": "stream",
     "text": [
      "What's in your mind:  i had a really good day today\n"
     ]
    },
    {
     "name": "stdout",
     "output_type": "stream",
     "text": [
      "Intent using SVM: Happy_Excited_Joy\n",
      "Intent using Multi Layer Perceptron: ['Happy_Excited_Joy']\n",
      "William:  I am happy to hear your interview went well\n",
      "\n"
     ]
    },
    {
     "name": "stdin",
     "output_type": "stream",
     "text": [
      "What's in your mind:  she lost a toe and gained a cool car\n"
     ]
    },
    {
     "name": "stdout",
     "output_type": "stream",
     "text": [
      "Intent using SVM: Introduction\n",
      "Intent using Multi Layer Perceptron: ['Sad']\n",
      "William:  I am sorry about your car\n",
      "\n"
     ]
    },
    {
     "name": "stdin",
     "output_type": "stream",
     "text": [
      "What's in your mind:  i went to a party last night\n"
     ]
    },
    {
     "name": "stdout",
     "output_type": "stream",
     "text": [
      "Intent using SVM: Sad\n",
      "Intent using Multi Layer Perceptron: ['Happy_Excited_Joy']\n",
      "William:  Did you like it?\n",
      "\n"
     ]
    },
    {
     "name": "stdin",
     "output_type": "stream",
     "text": [
      "What's in your mind:  it was alot of fun\n"
     ]
    },
    {
     "name": "stdout",
     "output_type": "stream",
     "text": [
      "Intent using SVM: Eat_Food\n",
      "Intent using Multi Layer Perceptron: ['Surprise_Amazed']\n",
      "William:  Yes. It was amazing.\n",
      "\n"
     ]
    },
    {
     "name": "stdin",
     "output_type": "stream",
     "text": [
      "What's in your mind:  what happened to the liitle boy\n"
     ]
    },
    {
     "name": "stdout",
     "output_type": "stream",
     "text": [
      "Intent using SVM: Confirm\n",
      "Intent using Multi Layer Perceptron: ['Info']\n",
      "William:  The man who discovered the location of the ruins ?\n",
      "\n"
     ]
    }
   ],
   "source": [
    "#run the model\n",
    "while True:\n",
    "    input_str = input(\"What's in your mind: \")\n",
    "    if input_str == 'nothing':\n",
    "        break\n",
    "        \n",
    "    processed_text = tfidf_transformer_xtest.fit_transform(countVectorizer1.transform([input_str]))\n",
    "    print('Intent using SVM: ',end = '')\n",
    "    svm_intent = svm.predict(processed_text)[0]\n",
    "    mlp_intent = mlp.predict(processed_text)[0]\n",
    "    print(svm_intent)\n",
    "    print('Intent using Multi Layer Perceptron: ',end = '')\n",
    "    print(mlp.predict(processed_text))\n",
    "\n",
    "\n",
    "    # generating reply\n",
    "    list_intent = [svm_intent, mlp_intent]\n",
    "    best_intent, si = extract_best_intent(list_intent)\n",
    "    #print(si)\n",
    "    #print('Best Intent:',best_intent)\n",
    "    print('William: ',response_generator(input_str, best_intent))\n",
    "    print()"
   ]
  },
  {
   "cell_type": "code",
   "execution_count": null,
   "id": "ea5920c5",
   "metadata": {},
   "outputs": [],
   "source": []
  },
  {
   "cell_type": "code",
   "execution_count": null,
   "id": "49e7405f-0315-4b1b-9ab6-af0ef3d3c879",
   "metadata": {},
   "outputs": [],
   "source": []
  }
 ],
 "metadata": {
  "kernelspec": {
   "display_name": "Python 3",
   "language": "python",
   "name": "python3"
  },
  "language_info": {
   "codemirror_mode": {
    "name": "ipython",
    "version": 3
   },
   "file_extension": ".py",
   "mimetype": "text/x-python",
   "name": "python",
   "nbconvert_exporter": "python",
   "pygments_lexer": "ipython3",
   "version": "3.8.8"
  }
 },
 "nbformat": 4,
 "nbformat_minor": 5
}
